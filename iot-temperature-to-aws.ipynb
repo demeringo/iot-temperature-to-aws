{
 "cells": [
  {
   "cell_type": "markdown",
   "metadata": {},
   "source": [
    "# Sending raspberry pi data to AWS dynamodb table"
   ]
  },
  {
   "cell_type": "markdown",
   "metadata": {},
   "source": [
    "We use a raspberry to capture temperature data and send it to a dynamo DB table through AWS IOT gateway.\n",
    "\n",
    "- data is tranmitted in json to IOT gateway through MQTT protocol\n",
    "- IOT gateway listens to a specific MQTT topic and uses a rule to push part of the message to a dynamodDB table.\n",
    "- A separate jupyter notebook displays the data\n",
    "\n",
    "\n",
    "![arch overview](picts/Temperature_to_iot_dynamo.png)\n"
   ]
  },
  {
   "cell_type": "markdown",
   "metadata": {},
   "source": [
    "## Prerequisite\n",
    "\n",
    "An AWS access and AWS CLI configured with sufficient credentials.\n",
    "\n",
    "\n",
    "See \n",
    "https://viastudio.com/creating-an-aws-dynamodb-table-from-the-command-line/"
   ]
  },
  {
   "cell_type": "markdown",
   "metadata": {},
   "source": [
    "## Create the dynamoDB table"
   ]
  },
  {
   "cell_type": "markdown",
   "metadata": {},
   "source": [
    "### The structure of our table\n",
    "\n",
    "Our table will have the following structure:\n",
    "- deviceid (primary partition key)\n",
    "- timestamp (primary sort key)\n",
    "- data (MQTT message sent by the IOT thing).\n",
    "\n",
    "We keep the default of Read and Write capacity units to the defalts (RCU: 5  WCU: 5)\n",
    "\n",
    "#### Get info about an existing table \n",
    "Our table was previously created with web console. We can get details with the ``` describe-table``` command"
   ]
  },
  {
   "cell_type": "code",
   "execution_count": 11,
   "metadata": {
    "scrolled": true
   },
   "outputs": [
    {
     "name": "stdout",
     "output_type": "stream",
     "text": [
      "TABLE\t1528126779.189\t262\tarn:aws:dynamodb:eu-west-1:814098365754:table/iot_data2\tc81fdaa8-f486-4ede-978f-e08e9a04c3ff\tiot_data2\t34498\tACTIVE\n",
      "ATTRIBUTEDEFINITIONS\tdeviceid\tS\n",
      "ATTRIBUTEDEFINITIONS\ttimestamp\tS\n",
      "KEYSCHEMA\tdeviceid\tHASH\n",
      "KEYSCHEMA\ttimestamp\tRANGE\n",
      "PROVISIONEDTHROUGHPUT\t0\t5\t5\n"
     ]
    }
   ],
   "source": [
    "%%bash\n",
    "source ~/awscli/bin/activate\n",
    "aws dynamodb describe-table --table-name=iot_data2"
   ]
  },
  {
   "cell_type": "markdown",
   "metadata": {},
   "source": [
    "### Table definition in json format\n",
    "we store a minimal definition in iot_data_table_def.json"
   ]
  },
  {
   "cell_type": "code",
   "execution_count": 10,
   "metadata": {},
   "outputs": [
    {
     "name": "stdout",
     "output_type": "stream",
     "text": [
      "{\r\n",
      "  \"AttributeDefinitions\": [\r\n",
      "    {\r\n",
      "      \"AttributeName\": \"deviceid\",\r\n",
      "      \"AttributeType\": \"S\"\r\n",
      "    },\r\n",
      "    {\r\n",
      "      \"AttributeName\": \"timestamp\",\r\n",
      "      \"AttributeType\": \"S\"\r\n",
      "    }\r\n",
      "  ],\r\n",
      "  \"TableName\": \"iot_data\",\r\n",
      "  \"KeySchema\": [\r\n",
      "    {\r\n",
      "      \"AttributeName\": \"deviceid\",\r\n",
      "      \"KeyType\": \"HASH\"\r\n",
      "    },\r\n",
      "    {\r\n",
      "      \"AttributeName\": \"timestamp\",\r\n",
      "      \"KeyType\": \"RANGE\"\r\n",
      "    }\r\n",
      "  ],\r\n",
      "  \"ProvisionedThroughput\": {\r\n",
      "    \"WriteCapacityUnits\": 5,\r\n",
      "    \"ReadCapacityUnits\": 5\r\n",
      "  }\r\n",
      "}\r\n"
     ]
    }
   ],
   "source": [
    "%cat iot_data_table_def.json"
   ]
  },
  {
   "cell_type": "markdown",
   "metadata": {},
   "source": [
    "### Create the table in CLI"
   ]
  },
  {
   "cell_type": "code",
   "execution_count": 2,
   "metadata": {},
   "outputs": [
    {
     "name": "stdout",
     "output_type": "stream",
     "text": [
      "TABLEDESCRIPTION\t1529937491.346\t0\tarn:aws:dynamodb:eu-west-1:814098365754:table/iot_data\tffd35ba0-35ab-46d3-8ec6-aebf73f35b38\tiot_data\t0\tCREATING\n",
      "ATTRIBUTEDEFINITIONS\tdeviceid\tS\n",
      "ATTRIBUTEDEFINITIONS\ttimestamp\tS\n",
      "KEYSCHEMA\tdeviceid\tHASH\n",
      "KEYSCHEMA\ttimestamp\tRANGE\n",
      "PROVISIONEDTHROUGHPUT\t0\t5\t5\n"
     ]
    }
   ],
   "source": [
    "%%bash\n",
    "source ~/awscli/bin/activate\n",
    "aws dynamodb create-table --cli-input-json file://iot_data_table_def.json"
   ]
  },
  {
   "cell_type": "markdown",
   "metadata": {},
   "source": [
    "## Grant access to the table to an IOT role"
   ]
  },
  {
   "cell_type": "markdown",
   "metadata": {},
   "source": [
    "We create an IOT role (the IOT gateway will later impersonate this role to get wreite access to dynamo db).\n",
    "A policy, that allows write on the dynamo table is then attached to this role."
   ]
  },
  {
   "cell_type": "markdown",
   "metadata": {},
   "source": [
    "### Create an IOT role  (to impersonnate iot service)\n",
    "Role name: `iot_sensor_role`, its assumed policy is in `iot_sensor_role.json`"
   ]
  },
  {
   "cell_type": "code",
   "execution_count": 19,
   "metadata": {},
   "outputs": [
    {
     "name": "stdout",
     "output_type": "stream",
     "text": [
      "{\r\n",
      "  \"Version\": \"2012-10-17\",\r\n",
      "  \"Statement\": [\r\n",
      "    {\r\n",
      "      \"Effect\": \"Allow\",\r\n",
      "      \"Principal\": {\r\n",
      "        \"Service\": \"iot.amazonaws.com\"\r\n",
      "      },\r\n",
      "      \"Action\": \"sts:AssumeRole\"\r\n",
      "    }\r\n",
      "  ]\r\n",
      "}\r\n"
     ]
    }
   ],
   "source": [
    "%cat iot_sensor_role.json"
   ]
  },
  {
   "cell_type": "code",
   "execution_count": 24,
   "metadata": {},
   "outputs": [
    {
     "name": "stdout",
     "output_type": "stream",
     "text": [
      "ROLE\tarn:aws:iam::814098365754:role/iot_sensor_role\t2018-06-25T15:47:59.316Z\t/\tAROAI7REHXSWLIMDGNMT4\tiot_sensor_role\n",
      "ASSUMEROLEPOLICYDOCUMENT\t2012-10-17\n",
      "STATEMENT\tsts:AssumeRole\tAllow\n",
      "PRINCIPAL\tiot.amazonaws.com\n"
     ]
    }
   ],
   "source": [
    "%%bash\n",
    "source ~/awscli/bin/activate\n",
    "aws iam create-role --role-name iot_sensor_role --assume-role-policy-document file://iot_sensor_role.json"
   ]
  },
  {
   "cell_type": "markdown",
   "metadata": {},
   "source": [
    "### Add a policy to allow table write access\n",
    "\n",
    "This policy grants write access to the dynamo db table. We use the table arn (account name followed by table name): `arn:aws:dynamodb:eu-west-1:814098365754:table/iot_data`.\n",
    "This arn has can be retrived from the table creation output."
   ]
  },
  {
   "cell_type": "code",
   "execution_count": 17,
   "metadata": {},
   "outputs": [
    {
     "name": "stdout",
     "output_type": "stream",
     "text": [
      "{\r\n",
      "    \"Version\": \"2012-10-17\",\r\n",
      "    \"Statement\": {\r\n",
      "        \"Effect\": \"Allow\",\r\n",
      "        \"Action\": \"dynamodb:PutItem\",\r\n",
      "        \"Resource\": \"arn:aws:dynamodb:eu-west-1:814098365754:table/iot_data\"\r\n",
      "    }\r\n",
      "}\r\n"
     ]
    }
   ],
   "source": [
    "%cat iot_table_write_policy.json"
   ]
  },
  {
   "cell_type": "markdown",
   "metadata": {},
   "source": [
    "#### create the policy"
   ]
  },
  {
   "cell_type": "code",
   "execution_count": 26,
   "metadata": {},
   "outputs": [
    {
     "name": "stdout",
     "output_type": "stream",
     "text": [
      "POLICY\tarn:aws:iam::814098365754:policy/iot_table_write_policy\t0\t2018-06-25T15:55:53.578Z\tv1\tTrue\t/\tANPAJMEGK3TQUBEPC7QW4\tiot_table_write_policy\t2018-06-25T15:55:53.578Z\n"
     ]
    }
   ],
   "source": [
    "%%bash\n",
    "source ~/awscli/bin/activate\n",
    "aws iam create-policy --policy-name iot_table_write_policy --policy-document file://iot_table_write_policy.json"
   ]
  },
  {
   "cell_type": "markdown",
   "metadata": {},
   "source": [
    "#### attach table write policy to iot_sensor_role"
   ]
  },
  {
   "cell_type": "code",
   "execution_count": 32,
   "metadata": {},
   "outputs": [],
   "source": [
    "%%bash\n",
    "source ~/awscli/bin/activate\n",
    "aws iam attach-role-policy --role-name iot_sensor_role --policy-arn arn:aws:iam::814098365754:policy/iot_table_write_policy"
   ]
  },
  {
   "cell_type": "markdown",
   "metadata": {},
   "source": [
    "#### Add the passrole permission"
   ]
  },
  {
   "cell_type": "code",
   "execution_count": null,
   "metadata": {},
   "outputs": [],
   "source": []
  },
  {
   "cell_type": "code",
   "execution_count": null,
   "metadata": {},
   "outputs": [],
   "source": [
    "{\n",
    "    \"Version\": \"2012-10-17\",\n",
    "    \"Statement\": [\n",
    "        {\n",
    "            \"Sid\": \"Stmt1\",\n",
    "            \"Effect\": \"Allow\",\n",
    "            \"Action\": [\n",
    "                \"iam:PassRole\"\n",
    "            ],\n",
    "            \"Resource\": [\n",
    "                \"arn:aws:iam::814098365754:role/iot_sensor_role\"\n",
    "            ]\n",
    "        }\n",
    "    ]\n",
    "}"
   ]
  },
  {
   "cell_type": "code",
   "execution_count": null,
   "metadata": {},
   "outputs": [],
   "source": []
  },
  {
   "cell_type": "code",
   "execution_count": null,
   "metadata": {},
   "outputs": [],
   "source": []
  },
  {
   "cell_type": "markdown",
   "metadata": {},
   "source": [
    "## Register an IOT thing"
   ]
  },
  {
   "cell_type": "markdown",
   "metadata": {},
   "source": [
    "Register a thing on AWS iot, we name it `lab-temp-sensor-1`."
   ]
  },
  {
   "cell_type": "code",
   "execution_count": 33,
   "metadata": {},
   "outputs": [
    {
     "name": "stdout",
     "output_type": "stream",
     "text": [
      "arn:aws:iot:eu-west-1:814098365754:thing/lab-temp-sensor-1\t1ad6c1b2-c315-46f5-b5a4-ab82b4c93112\tlab-temp-sensor-1\n"
     ]
    }
   ],
   "source": [
    "%%bash\n",
    "source ~/awscli/bin/activate\n",
    "aws iot create-thing --thing-name=lab-temp-sensor-1"
   ]
  },
  {
   "cell_type": "code",
   "execution_count": null,
   "metadata": {},
   "outputs": [],
   "source": []
  },
  {
   "cell_type": "code",
   "execution_count": null,
   "metadata": {},
   "outputs": [],
   "source": []
  },
  {
   "cell_type": "markdown",
   "metadata": {},
   "source": []
  },
  {
   "cell_type": "code",
   "execution_count": null,
   "metadata": {},
   "outputs": [],
   "source": []
  },
  {
   "cell_type": "markdown",
   "metadata": {},
   "source": [
    "## Create the rule"
   ]
  },
  {
   "cell_type": "markdown",
   "metadata": {},
   "source": [
    "The rule pushes messages received on the /lab/temperature topic to the dynamo db table.\n",
    "Needs the correct role arn as well as table details and mapping."
   ]
  },
  {
   "cell_type": "code",
   "execution_count": null,
   "metadata": {},
   "outputs": [],
   "source": [
    "#### List existing rules\n"
   ]
  },
  {
   "cell_type": "code",
   "execution_count": null,
   "metadata": {},
   "outputs": [],
   "source": [
    "{\n",
    "  \"sql\": \"SELECT * FROM 'iot/test'\",\n",
    "  \"ruleDisabled\": false,\n",
    "  \"awsIotSqlVersion\": \"2016-03-23\",\n",
    "  \"actions\": [{\n",
    "      \"dynamoDB\": {\n",
    "          \"tableName\": \"my-dynamodb-table\",\n",
    "          \"roleArn\": \"arn:aws:iam::814098365754:role/iot_sensor_role\",\n",
    "          \"hashKeyField\": \"topic\",\n",
    "          \"hashKeyValue\": \"${topic(2)}\",\n",
    "          \"rangeKeyField\": \"timestamp\",\n",
    "          \"rangeKeyValue\": \"${timestamp()}\"\n",
    "      }\n",
    "  }]\n",
    "}"
   ]
  },
  {
   "cell_type": "code",
   "execution_count": null,
   "metadata": {},
   "outputs": [],
   "source": [
    "aws iot create-topic-rule --rule-name my-rule --topic-rule-payload file://my-rule.json"
   ]
  }
 ],
 "metadata": {
  "kernelspec": {
   "display_name": "Python 2",
   "language": "python",
   "name": "python2"
  },
  "language_info": {
   "codemirror_mode": {
    "name": "ipython",
    "version": 2
   },
   "file_extension": ".py",
   "mimetype": "text/x-python",
   "name": "python",
   "nbconvert_exporter": "python",
   "pygments_lexer": "ipython2",
   "version": "2.7.13"
  }
 },
 "nbformat": 4,
 "nbformat_minor": 2
}
